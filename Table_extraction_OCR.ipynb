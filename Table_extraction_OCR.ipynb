{
  "nbformat": 4,
  "nbformat_minor": 0,
  "metadata": {
    "colab": {
      "provenance": [],
      "authorship_tag": "ABX9TyMBMof3lQTCWGj2YalaKwfA",
      "include_colab_link": true
    },
    "kernelspec": {
      "name": "python3",
      "display_name": "Python 3"
    },
    "language_info": {
      "name": "python"
    }
  },
  "cells": [
    {
      "cell_type": "markdown",
      "metadata": {
        "id": "view-in-github",
        "colab_type": "text"
      },
      "source": [
        "<a href=\"https://colab.research.google.com/github/MATHUSHASIVA/Mathucodes/blob/main/Table_extraction_OCR.ipynb\" target=\"_parent\"><img src=\"https://colab.research.google.com/assets/colab-badge.svg\" alt=\"Open In Colab\"/></a>"
      ]
    },
    {
      "cell_type": "code",
      "execution_count": 1,
      "metadata": {
        "id": "xEdizk1_4EtQ",
        "colab": {
          "base_uri": "https://localhost:8080/"
        },
        "outputId": "b1026826-f622-412e-bb16-16b5dd6c68ac"
      },
      "outputs": [
        {
          "output_type": "stream",
          "name": "stdout",
          "text": [
            "Requirement already satisfied: pdf2image in /usr/local/lib/python3.10/dist-packages (1.17.0)\n",
            "Requirement already satisfied: pillow in /usr/local/lib/python3.10/dist-packages (from pdf2image) (9.4.0)\n"
          ]
        }
      ],
      "source": [
        "!pip install pdf2image\n"
      ]
    },
    {
      "cell_type": "code",
      "source": [
        "!apt-get install poppler-utils"
      ],
      "metadata": {
        "colab": {
          "base_uri": "https://localhost:8080/"
        },
        "id": "F7Guuia2otN3",
        "outputId": "a37fb159-f6cf-4cbf-f7d8-e3a1608acb33"
      },
      "execution_count": 2,
      "outputs": [
        {
          "output_type": "stream",
          "name": "stdout",
          "text": [
            "Reading package lists... Done\n",
            "Building dependency tree... Done\n",
            "Reading state information... Done\n",
            "poppler-utils is already the newest version (22.02.0-2ubuntu0.3).\n",
            "0 upgraded, 0 newly installed, 0 to remove and 32 not upgraded.\n"
          ]
        }
      ]
    },
    {
      "cell_type": "code",
      "source": [
        "from pdf2image import convert_from_path\n",
        "\n",
        "# # Path to your PDF file\n",
        "pdf_path = '/content/SAMPLE DIRECTIVE (1).pdf'\n",
        "\n",
        "# # Convert PDF to images\n",
        "images = convert_from_path(pdf_path)\n",
        "\n",
        "# Save images\n",
        "for i, image in enumerate(images):\n",
        "    image.save(f'page_{i+1}.jpg', 'JPEG')\n"
      ],
      "metadata": {
        "id": "zRvp1pwnoXvb"
      },
      "execution_count": 3,
      "outputs": []
    },
    {
      "cell_type": "code",
      "source": [
        "!pip install img2table"
      ],
      "metadata": {
        "colab": {
          "base_uri": "https://localhost:8080/"
        },
        "id": "0IQffUq7o7Y2",
        "outputId": "1bc52c15-e517-4f6d-d59a-4ba943f87cce"
      },
      "execution_count": 4,
      "outputs": [
        {
          "output_type": "stream",
          "name": "stdout",
          "text": [
            "Requirement already satisfied: img2table in /usr/local/lib/python3.10/dist-packages (1.2.10)\n",
            "Requirement already satisfied: polars[pandas]>=0.20.5 in /usr/local/lib/python3.10/dist-packages (from img2table) (0.20.7)\n",
            "Requirement already satisfied: pyarrow>=7 in /usr/local/lib/python3.10/dist-packages (from img2table) (10.0.1)\n",
            "Requirement already satisfied: numpy in /usr/local/lib/python3.10/dist-packages (from img2table) (1.23.5)\n",
            "Requirement already satisfied: pymupdf>=1.19.1 in /usr/local/lib/python3.10/dist-packages (from img2table) (1.23.21)\n",
            "Requirement already satisfied: opencv-contrib-python in /usr/local/lib/python3.10/dist-packages (from img2table) (4.8.0.76)\n",
            "Requirement already satisfied: numba in /usr/local/lib/python3.10/dist-packages (from img2table) (0.58.1)\n",
            "Requirement already satisfied: beautifulsoup4 in /usr/local/lib/python3.10/dist-packages (from img2table) (4.12.3)\n",
            "Requirement already satisfied: xlsxwriter>=3.0.6 in /usr/local/lib/python3.10/dist-packages (from img2table) (3.1.9)\n",
            "Requirement already satisfied: pandas in /usr/local/lib/python3.10/dist-packages (from polars[pandas]>=0.20.5->img2table) (1.5.3)\n",
            "Requirement already satisfied: PyMuPDFb==1.23.9 in /usr/local/lib/python3.10/dist-packages (from pymupdf>=1.19.1->img2table) (1.23.9)\n",
            "Requirement already satisfied: soupsieve>1.2 in /usr/local/lib/python3.10/dist-packages (from beautifulsoup4->img2table) (2.5)\n",
            "Requirement already satisfied: llvmlite<0.42,>=0.41.0dev0 in /usr/local/lib/python3.10/dist-packages (from numba->img2table) (0.41.1)\n",
            "Requirement already satisfied: python-dateutil>=2.8.1 in /usr/local/lib/python3.10/dist-packages (from pandas->polars[pandas]>=0.20.5->img2table) (2.8.2)\n",
            "Requirement already satisfied: pytz>=2020.1 in /usr/local/lib/python3.10/dist-packages (from pandas->polars[pandas]>=0.20.5->img2table) (2023.4)\n",
            "Requirement already satisfied: six>=1.5 in /usr/local/lib/python3.10/dist-packages (from python-dateutil>=2.8.1->pandas->polars[pandas]>=0.20.5->img2table) (1.16.0)\n"
          ]
        }
      ]
    },
    {
      "cell_type": "code",
      "source": [
        "from img2table.document import PDF\n",
        "from img2table.ocr import TesseractOCR\n"
      ],
      "metadata": {
        "id": "Vumm4105pCZ7"
      },
      "execution_count": 5,
      "outputs": []
    },
    {
      "cell_type": "code",
      "source": [
        "from img2table.document import Image"
      ],
      "metadata": {
        "id": "fwcInx2ds56V"
      },
      "execution_count": 9,
      "outputs": []
    },
    {
      "cell_type": "code",
      "source": [
        "img = Image(src=\"/content/page_3.jpg\")"
      ],
      "metadata": {
        "id": "Rf5WS9kXs8uh"
      },
      "execution_count": 10,
      "outputs": []
    },
    {
      "cell_type": "code",
      "source": [
        "img_tables = img.extract_tables()\n",
        "\n",
        "# Result of table identification\n",
        "img_tables"
      ],
      "metadata": {
        "colab": {
          "base_uri": "https://localhost:8080/"
        },
        "id": "LBymeo5etJXV",
        "outputId": "b961d75a-eb64-434c-a4bc-c112db21fb27"
      },
      "execution_count": 11,
      "outputs": [
        {
          "output_type": "execute_result",
          "data": {
            "text/plain": [
              "[ExtractedTable(title=None, bbox=(200, 717, 1499, 1388),shape=(2, 2)),\n",
              " ExtractedTable(title=None, bbox=(200, 1493, 1499, 1849),shape=(9, 3))]"
            ]
          },
          "metadata": {},
          "execution_count": 11
        }
      ]
    },
    {
      "cell_type": "code",
      "source": [
        "# Install Tesseract\n",
        "!sudo apt-get install tesseract-ocr\n",
        "\n",
        "# Install pytesseract\n",
        "!pip install pytesseract\n",
        "\n",
        "# Specify the Tesseract executable path\n",
        "import pytesseract\n",
        "pytesseract.pytesseract.tesseract_cmd = '/usr/bin/tesseract'\n"
      ],
      "metadata": {
        "colab": {
          "base_uri": "https://localhost:8080/"
        },
        "id": "TGnZAXytpepb",
        "outputId": "e1ede67d-a7d1-452e-a0c3-478d2a8b67bd"
      },
      "execution_count": 6,
      "outputs": [
        {
          "output_type": "stream",
          "name": "stdout",
          "text": [
            "Reading package lists... Done\n",
            "Building dependency tree... Done\n",
            "Reading state information... Done\n",
            "tesseract-ocr is already the newest version (4.1.1-2.1build1).\n",
            "0 upgraded, 0 newly installed, 0 to remove and 32 not upgraded.\n",
            "Requirement already satisfied: pytesseract in /usr/local/lib/python3.10/dist-packages (0.3.10)\n",
            "Requirement already satisfied: packaging>=21.3 in /usr/local/lib/python3.10/dist-packages (from pytesseract) (23.2)\n",
            "Requirement already satisfied: Pillow>=8.0.0 in /usr/local/lib/python3.10/dist-packages (from pytesseract) (9.4.0)\n"
          ]
        }
      ]
    },
    {
      "cell_type": "code",
      "source": [
        "ocr = TesseractOCR(lang=\"eng\")"
      ],
      "metadata": {
        "id": "Kwprs43xpOLH"
      },
      "execution_count": 7,
      "outputs": []
    },
    {
      "cell_type": "code",
      "source": [
        "# from img2table.document import PDF\n",
        "# from img2table.ocr import TesseractOCR\n",
        "\n",
        "# Instantiation of the pdf\n",
        "pdf = PDF(src=\"/content/SAMPLE DIRECTIVE (1).pdf\")\n",
        "\n",
        "# # Instantiation of the OCR, Tesseract, which requires prior installation\n",
        "# ocr = TesseractOCR(lang=\"eng\")\n",
        "\n",
        "# Table identification and extraction\n",
        "pdf_tables = pdf.extract_tables(ocr=ocr)\n",
        "\n",
        "# We can also create an excel file with the tables\n",
        "pdf.to_xlsx('tables.xlsx',\n",
        "            ocr=ocr)"
      ],
      "metadata": {
        "id": "UoxLQERPqu5L"
      },
      "execution_count": 12,
      "outputs": []
    },
    {
      "cell_type": "code",
      "source": [],
      "metadata": {
        "id": "iLosCRMrqOBF"
      },
      "execution_count": null,
      "outputs": []
    },
    {
      "cell_type": "code",
      "source": [],
      "metadata": {
        "id": "jzhs-F2QpV5i"
      },
      "execution_count": null,
      "outputs": []
    }
  ]
}